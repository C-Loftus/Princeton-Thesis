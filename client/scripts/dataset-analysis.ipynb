{
 "cells": [
  {
   "cell_type": "code",
   "execution_count": null,
   "metadata": {},
   "outputs": [],
   "source": [
    "import pandas as pd, os, requests, sys, numpy as np, datetime\n",
    "import matplotlib.pyplot as plt\n",
    "import seaborn as sns\n",
    "\n",
    "RECORDING_PATH = os.path.expanduser(\"~/.talon/recordings\")\n",
    "SCRIPT_PATH = os.path.dirname(os.path.realpath(__file__))\n",
    "DATA_DIR = os.path.join(SCRIPT_PATH, \"../data\")\n",
    "HOSTNAME = os.uname()[1]\n",
    "OUTPUT_PATH = os.path.join(SCRIPT_PATH, DATA_DIR, \"talon-conversion\")\n",
    "USER_ID = hash(HOSTNAME)  % 10000\n",
    "MIN_NUM_SAMPLES = 4\n",
    "REMOTE_SERVER = \"http://localhost:5000\""
   ]
  },
  {
   "cell_type": "code",
   "execution_count": null,
   "metadata": {},
   "outputs": [],
   "source": [
    "\n",
    "def plot_data_collection(data):\n",
    " \n",
    "    x_values = list(data.keys())\n",
    "    y_values = list(data.values())\n",
    "    #  plot all the data and do a line of best fit\n",
    "    plt.plot(x_values, y_values, 'o', color='black')\n",
    "    z = np.polyfit(x_values, y_values, 1)\n",
    "    p = np.poly1d(z)\n",
    "    plt.plot(x_values,p(x_values),\"r--\")\n",
    "\n",
    "    plt.savefig(os.path.join(SCRIPT_PATH, \"../../doc/assets/talon_collection.png\"))\n",
    "\n",
    "\n",
    "parseCmd = lambda filename: filename.split(\"-\")[0]\n",
    "\n",
    "def validForTraining(filename, cmd) -> bool:\n",
    "\n",
    "    # Send a web request to the server to get the list of commands\n",
    "\n",
    "    result= requests.get(REMOTE_SERVER + \"/commands\")\n",
    "    try:\n",
    "        training_commands = result.json()['detail']\n",
    "    except Exception as e:\n",
    "        print(\" Error getting commands from the server. Is the server running?\")\n",
    "        sys.exit(1)\n",
    "        \n",
    "    words_in_command = len(cmd.split(\" \"))\n",
    "    return filename.endswith(\".flac\") and \\\n",
    "            words_in_command == 1 and \\\n",
    "            cmd in training_commands and \\\n",
    "            len([f for f in os.listdir(RECORDING_PATH) if parseCmd(f) == cmd]) > MIN_NUM_SAMPLES"
   ]
  },
  {
   "cell_type": "code",
   "execution_count": null,
   "metadata": {},
   "outputs": [],
   "source": [
    "def parse():\n",
    "    # create training directory if it doesn't exist \n",
    "    if not os.path.exists(OUTPUT_PATH):\n",
    "        os.makedirs(OUTPUT_PATH)\n",
    "\n",
    "    timesSaid = {}\n",
    "\n",
    "    for filename in os.listdir(RECORDING_PATH):\n",
    "\n",
    "        cmd = parseCmd(filename)\n",
    "\n",
    "        if validForTraining(filename, cmd):\n",
    "\n",
    "            timesSaid[cmd] = timesSaid.get(cmd, -1) + 1\n",
    "        \n",
    "            file_creation_date = datetime.datetime.fromtimestamp(os.path.getctime(os.path.join(RECORDING_PATH, filename)))\n",
    "\n",
    "            output_name = f'{USER_ID}_nohash_{timesSaid[cmd]}.wav'\n",
    "            "
   ]
  }
 ],
 "metadata": {
  "language_info": {
   "name": "python"
  },
  "orig_nbformat": 4
 },
 "nbformat": 4,
 "nbformat_minor": 2
}
